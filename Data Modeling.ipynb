{
 "cells": [
  {
   "cell_type": "markdown",
   "id": "8ecba429",
   "metadata": {},
   "source": [
    "# <P allign= \"center\"> Creating Table with PostgresSQL"
   ]
  },
  {
   "cell_type": "markdown",
   "id": "7ab198ad",
   "metadata": {},
   "source": [
    "### Lib installation"
   ]
  },
  {
   "cell_type": "code",
   "execution_count": 1,
   "id": "49c16274",
   "metadata": {},
   "outputs": [
    {
     "name": "stdout",
     "output_type": "stream",
     "text": [
      "Collecting psycopg2\n",
      "  Downloading psycopg2-2.9.9-cp39-cp39-win_amd64.whl (1.2 MB)\n",
      "Installing collected packages: psycopg2\n",
      "Successfully installed psycopg2-2.9.9\n"
     ]
    }
   ],
   "source": [
    "!pip install psycopg2"
   ]
  },
  {
   "cell_type": "code",
   "execution_count": 5,
   "id": "130fd1a4",
   "metadata": {},
   "outputs": [],
   "source": [
    "# Import Library\n",
    "import psycopg2"
   ]
  },
  {
   "cell_type": "markdown",
   "id": "5d631b7c",
   "metadata": {},
   "source": [
    "### Create connection with Database"
   ]
  },
  {
   "cell_type": "code",
   "execution_count": 9,
   "id": "02e64095",
   "metadata": {},
   "outputs": [],
   "source": [
    "try:\n",
    "    conn = psycopg2.connect(\"host=127.0.0.1 dbname=postgres user=postgres password=admin@123\")\n",
    "except psycopg2.Error as e:\n",
    "    print(\"Error!! Could not make connection\")\n",
    "    print(e)"
   ]
  },
  {
   "cell_type": "markdown",
   "id": "f74b1b84",
   "metadata": {},
   "source": [
    "### Use the connection to get a cursor that can be used to execute queries"
   ]
  },
  {
   "cell_type": "code",
   "execution_count": 10,
   "id": "0bef0dda",
   "metadata": {},
   "outputs": [],
   "source": [
    "try:\n",
    "    cur=conn.cursor()\n",
    "except psycopg2.Error as e:\n",
    "    print(\"Error!! Could not get curser to the Database\")\n",
    "    print(e)"
   ]
  },
  {
   "cell_type": "markdown",
   "id": "4d007944",
   "metadata": {},
   "source": [
    "### Set automatic commit to be True so that each action  is commited"
   ]
  },
  {
   "cell_type": "code",
   "execution_count": 11,
   "id": "fc6b4f68",
   "metadata": {},
   "outputs": [],
   "source": [
    "conn.set_session(autocommit=True)"
   ]
  },
  {
   "cell_type": "code",
   "execution_count": 13,
   "id": "2a3247df",
   "metadata": {},
   "outputs": [],
   "source": [
    "try:\n",
    "    cur.execute(\"create database myfistdb\")\n",
    "except psycopg2.Error as e:\n",
    "    print(e)"
   ]
  },
  {
   "cell_type": "markdown",
   "id": "0eceb1b5",
   "metadata": {},
   "source": [
    "### Close the Postgres SQL connection and connet to new DB i.e.: myfirstdb"
   ]
  },
  {
   "cell_type": "code",
   "execution_count": 14,
   "id": "46e3a287",
   "metadata": {},
   "outputs": [],
   "source": [
    "try:\n",
    "    conn.close()\n",
    "except psycopg2.Error as e:\n",
    "    print(e)\n",
    "    \n",
    "try:\n",
    "    conn = psycopg2.connect(\"host=127.0.0.1 dbname=myfistdb user=postgres password=admin@123\")\n",
    "except psycopg2.Error as e:\n",
    "    print(\"Error!! Could not make connection\")\n",
    "    print(e) \n",
    "\n",
    "try:\n",
    "    cur=conn.cursor()\n",
    "except psycopg2.Error as e:\n",
    "    print(\"Error!! Could not get curser to the Database\")\n",
    "    print(e)\n",
    "\n",
    "conn.set_session(autocommit=True)"
   ]
  },
  {
   "cell_type": "markdown",
   "id": "5a8d3277",
   "metadata": {},
   "source": [
    "### Create table \"Students\"\n",
    "\n",
    "       - student_id\n",
    "       - name\n",
    "       - age\n",
    "       - gender\n",
    "       - subject \n",
    "       - marks\n",
    "       "
   ]
  },
  {
   "cell_type": "code",
   "execution_count": 17,
   "id": "7a3018e8",
   "metadata": {},
   "outputs": [],
   "source": [
    "try:\n",
    "    cur.execute(\"create table if not exists students (student_id int, name varchar, age int, gender varchar, subject varchar, marks int);\")\n",
    "except psycopg2.Error as e:\n",
    "    print(\"Error!! Issue creating table\")\n",
    "    print(e)"
   ]
  },
  {
   "cell_type": "markdown",
   "id": "128956e4",
   "metadata": {},
   "source": [
    "### Insert the values to tables\n",
    "        - \"Sourabh\", 25, \"Male\", \"Python\", 95\n",
    "        - \"Sagar\", 22, \"Male\", \"SQL\", 98"
   ]
  },
  {
   "cell_type": "code",
   "execution_count": 31,
   "id": "235c7d2a",
   "metadata": {},
   "outputs": [],
   "source": [
    "try:\n",
    "    cur.execute(\"insert into students(student_id, name, age, gender, subject, marks) values (%s, %s, %s, %s, %s, %s)\",(1, \"Sourabh\", 26, \"Male\", \"Python\",85))\n",
    "except psycopg2.Error as e:\n",
    "                print(\"Error: Inserting Rows\")\n",
    "                print(e)\n",
    "            \n",
    "try:\n",
    "    cur.execute(\"insert into students(student_id, name, age, gender, subject, marks) values (%s, %s, %s, %s, %s, %s)\",(2, \"Sagar\", 22, \"Male\", \"SQL\",98))\n",
    "except psycopg2.Error as e:\n",
    "                print(\"Error: Inserting Rows\")\n",
    "                print(e)"
   ]
  },
  {
   "cell_type": "markdown",
   "id": "8db29e04",
   "metadata": {},
   "source": [
    "### Validate inserted data in table"
   ]
  },
  {
   "cell_type": "code",
   "execution_count": 32,
   "id": "a4aa3423",
   "metadata": {},
   "outputs": [
    {
     "name": "stdout",
     "output_type": "stream",
     "text": [
      "(1, 'Sourabh', 26, 'Male', 'Python', 85)\n",
      "(1, 'Sourabh', 26, 'Male', 'Python', 85)\n",
      "(2, 'Sagar', 22, 'Male', 'SQL', 98)\n"
     ]
    }
   ],
   "source": [
    "try:\n",
    "    cur.execute(\"select * from students\")\n",
    "except psycopg2.Error as e:\n",
    "    print(\"Error: select *\")\n",
    "    print(e)\n",
    "\n",
    "row= cur.fetchone()\n",
    "while row:\n",
    "    print(row)\n",
    "    row=cur.fetchone()"
   ]
  },
  {
   "cell_type": "code",
   "execution_count": null,
   "id": "3a726c8f",
   "metadata": {},
   "outputs": [],
   "source": []
  },
  {
   "cell_type": "code",
   "execution_count": null,
   "id": "a649c9c7",
   "metadata": {},
   "outputs": [],
   "source": []
  },
  {
   "cell_type": "code",
   "execution_count": null,
   "id": "1a86b058",
   "metadata": {},
   "outputs": [],
   "source": []
  },
  {
   "cell_type": "code",
   "execution_count": null,
   "id": "b2f865a5",
   "metadata": {},
   "outputs": [],
   "source": []
  },
  {
   "cell_type": "code",
   "execution_count": null,
   "id": "d6a674da",
   "metadata": {},
   "outputs": [],
   "source": []
  },
  {
   "cell_type": "code",
   "execution_count": null,
   "id": "4a42822d",
   "metadata": {},
   "outputs": [],
   "source": []
  },
  {
   "cell_type": "code",
   "execution_count": null,
   "id": "77dee8db",
   "metadata": {
    "scrolled": true
   },
   "outputs": [],
   "source": []
  },
  {
   "cell_type": "code",
   "execution_count": null,
   "id": "1feb19fb",
   "metadata": {},
   "outputs": [],
   "source": []
  }
 ],
 "metadata": {
  "kernelspec": {
   "display_name": "Python 3 (ipykernel)",
   "language": "python",
   "name": "python3"
  },
  "language_info": {
   "codemirror_mode": {
    "name": "ipython",
    "version": 3
   },
   "file_extension": ".py",
   "mimetype": "text/x-python",
   "name": "python",
   "nbconvert_exporter": "python",
   "pygments_lexer": "ipython3",
   "version": "3.9.7"
  }
 },
 "nbformat": 4,
 "nbformat_minor": 5
}
